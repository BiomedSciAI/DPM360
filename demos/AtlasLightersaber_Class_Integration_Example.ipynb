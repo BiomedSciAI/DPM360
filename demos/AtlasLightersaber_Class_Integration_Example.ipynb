{
 "cells": [
  {
   "cell_type": "markdown",
   "metadata": {
    "button": false,
    "deletable": true,
    "new_sheet": false,
    "run_control": {
     "read_only": false
    }
   },
   "source": [
    "# Atlas-Lightersaber Class Demo"
   ]
  },
  {
   "cell_type": "code",
   "execution_count": null,
   "metadata": {
    "button": false,
    "collapsed": false,
    "deletable": true,
    "new_sheet": false,
    "run_control": {
     "read_only": false
    }
   },
   "outputs": [],
   "source": [
    "\n",
    "from cohort_connector import *\n",
    "from feature_extractor import *"
   ]
  },
  {
   "cell_type": "markdown",
   "metadata": {
    "button": false,
    "deletable": true,
    "new_sheet": false,
    "run_control": {
     "read_only": false
    }
   },
   "source": [
    "#### Example Experiment Settings"
   ]
  },
  {
   "cell_type": "code",
   "execution_count": 2,
   "metadata": {
    "button": false,
    "collapsed": true,
    "deletable": true,
    "new_sheet": false,
    "run_control": {
     "read_only": false
    }
   },
   "outputs": [],
   "source": [
    "#Analysis name\n",
    "analysis_name = 'IHM'"
   ]
  },
  {
   "cell_type": "code",
   "execution_count": 3,
   "metadata": {
    "button": false,
    "collapsed": true,
    "deletable": true,
    "new_sheet": false,
    "run_control": {
     "read_only": false
    }
   },
   "outputs": [],
   "source": [
    "#DB connection details\n",
    "dbms = \"\"\n",
    "path_to_driver = ''\n",
    "user = ''\n",
    "pw = ''\n",
    "hostname = ''\n",
    "dbname = ''\n",
    "port = ''"
   ]
  },
  {
   "cell_type": "code",
   "execution_count": 4,
   "metadata": {
    "button": false,
    "collapsed": true,
    "deletable": true,
    "new_sheet": false,
    "run_control": {
     "read_only": false
    }
   },
   "outputs": [],
   "source": [
    "# Database containing the OMOP CDM data\n",
    "cdm_database_schema = 'omop2'\n",
    "\n",
    "# Database where the cohorts will be generated\n",
    "target_cohort_database_schema = 'results'\n",
    "outcome_cohort_database_schema = 'results'\n",
    "\n",
    "#Table where the cohorts will be retrieved\n",
    "target_cohort_table = 'cohort'\n",
    "outcome_cohort_table = 'cohort'\n",
    "\n",
    "#Cohort Ids\n",
    "target_cohort_id = 10001\n",
    "outcome_cohort_id = 10002\n",
    "\n",
    "#Sample size\n",
    "sample_size = 100"
   ]
  },
  {
   "cell_type": "code",
   "execution_count": 5,
   "metadata": {
    "button": false,
    "collapsed": true,
    "deletable": true,
    "new_sheet": false,
    "run_control": {
     "read_only": false
    }
   },
   "outputs": [],
   "source": [
    "#Tidy Plp settings\n",
    "min_fraction = 0.1\n",
    "normalize = False\n",
    "remove_redundancy = True"
   ]
  },
  {
   "cell_type": "code",
   "execution_count": 6,
   "metadata": {
    "button": false,
    "collapsed": true,
    "deletable": true,
    "new_sheet": false,
    "run_control": {
     "read_only": false
    }
   },
   "outputs": [],
   "source": [
    "# Covariates\n",
    "included_covariate_concept_ids = [3012888, 3020716, 3016335, 3008223, 3032652, \n",
    "                                  3009094, 3034962, 3027018, 3036277, 3027598, \n",
    "                                  3016502, 3024171, 3004249, 3020891, 3025315]\n",
    "\n",
    "\n",
    "categorical_covariate_concept_value_mappings = { 3016335: {1:'No Response', 2: 'To pain', 3:'To speech', 4:'Spontaneously'},\n",
    "                                                 3009094: {1:'No response',2:'Incomprensible sounds',3:'Inappropriate words',4:'Confused', 5:'Oriented'},\n",
    "                                                 3008223 : {1:'No response',2:'Abnormal extension',3:'Abnormal flexion',4:'Flex-withdraws', 5:'Localizes pain',6:'Obeys commands'},\n",
    "                                                 3032652: {3:'L3', 4:'L4', 5:'L5',6:'L6',7:'L7', 8:'L8',9:'L9',10:'L10',11:'L11', 12:'L12', 13:'L13', 14:'L14', 15:'L15'}\n",
    "                                               }\n",
    "\n",
    "\n",
    "categorical_covariate_concept_ids = [3008223, 3009094, 3016335, 3032652]\n",
    "\n",
    "\n",
    "numerical_covariate_concept_ids = [3004249, 3012888, 3016502, 3020716, \n",
    "                                   3020891, 3024171, 3025315, 3027018, \n",
    "                                   3027598, 3034962, 3036277]\n",
    "\n",
    "normal_covariate_concept_values = {\n",
    "                                   3036277: 170.0,\n",
    "                                   3020891: 36.6,\n",
    "                                   3025315: 81.0,\n",
    "                                   3012888: 59.0,\n",
    "                                   3032652: 'L15',\n",
    "                                   3016335: 'Spontaneously',\n",
    "                                   3008223: 'Obeys commands',\n",
    "                                   3009094: 'Oriented',\n",
    "                                   3034962: 128.0,\n",
    "                                   3027018: 86,\n",
    "                                   3020716: 0.21,\n",
    "                                   3027598: 77.0,\n",
    "                                   3016502: 98.0,\n",
    "                                   3024171: 19,\n",
    "                                   3004249: 118.0\n",
    "                                }"
   ]
  },
  {
   "cell_type": "code",
   "execution_count": 7,
   "metadata": {
    "button": false,
    "collapsed": true,
    "deletable": true,
    "new_sheet": false,
    "run_control": {
     "read_only": false
    }
   },
   "outputs": [],
   "source": [
    "#Feature Extraction settings\n",
    "sample_size = None\n",
    "val_size = .25 \n",
    "path =  ''"
   ]
  },
  {
   "cell_type": "code",
   "execution_count": 8,
   "metadata": {
    "button": false,
    "collapsed": true,
    "deletable": true,
    "new_sheet": false,
    "run_control": {
     "read_only": false
    }
   },
   "outputs": [],
   "source": [
    "cohort_connection_settings = dict()\n",
    "\n",
    "cohort_connection_settings['connection_details'] = {\n",
    "                                                    'dbms': dbms,\n",
    "                                                    'path_to_driver': path_to_driver,\n",
    "                                                    'hostname': hostname,\n",
    "                                                    'port': port,\n",
    "                                                    'dbname': dbname,\n",
    "                                                    'user': user,\n",
    "                                                    'password': pw\n",
    "\n",
    "                                                 }\n",
    "\n",
    "cohort_connection_settings['cohort_details'] =   {\n",
    "                                                'cdm_database_schema': cdm_database_schema, \n",
    "                                                'target_cohort_database_schema': target_cohort_database_schema,\n",
    "                                                'target_cohort_table': target_cohort_table,\n",
    "                                                'target_cohort_id': target_cohort_id,\n",
    "                                                'outcome_cohort_database_schema': outcome_cohort_database_schema,\n",
    "                                                'outcome_cohort_table': outcome_cohort_table,\n",
    "                                                'outcome_cohort_id': outcome_cohort_id,\n",
    "                                                'oracle_temp_schema': None\n",
    "                                                }\n",
    "\n",
    "with open('cohort_connection_settings.json', 'w') as f:\n",
    "    json.dump(cohort_connection_settings, f, indent=4)"
   ]
  },
  {
   "cell_type": "code",
   "execution_count": 9,
   "metadata": {
    "button": false,
    "collapsed": true,
    "deletable": true,
    "new_sheet": false,
    "run_control": {
     "read_only": false
    }
   },
   "outputs": [],
   "source": [
    "feature_extraction_settings = dict()\n",
    "\n",
    "feature_extraction_settings['analysis_name'] = analysis_name\n",
    "\n",
    "\n",
    "feature_extraction_settings['covariate_settings'] ={\n",
    "                                    'use_demographics_gender': True,\n",
    "                                    'use_demographics_age_group': True,\n",
    "                                    'use_demographics_race': True,\n",
    "                                    'use_demographics_ethnicity': True,\n",
    "                                    'use_condition_occurrence_any_time_prior': True,\n",
    "                                    'use_dcsi': True,\n",
    "                                    'use_chads2': True,\n",
    "                                    'use_chads2_vasc': True,\n",
    "                                    'included_covariate_concept_ids': included_covariate_concept_ids\n",
    "                                }\n",
    "\n",
    "feature_extraction_settings['tidy_covariate_settings'] = {\n",
    "                                     'min_fraction': min_fraction,\n",
    "                                     'normalize': normalize,\n",
    "                                     'remove_redundancy': remove_redundancy\n",
    "                                      }\n",
    "\n",
    "\n",
    "feature_extraction_settings['model_training_settings'] ={ \n",
    "                                        'sample_size': sample_size, \n",
    "                                        'val_size': val_size, \n",
    "                                        'random_state': 10,\n",
    "                                        'path': path\n",
    "                                     }\n",
    "\n",
    "\n",
    "feature_extraction_settings['expt_config_settings'] ={\n",
    "                                    'categorical_covariate_concept_ids': categorical_covariate_concept_ids,\n",
    "                                    'numerical_covariate_concept_ids': numerical_covariate_concept_ids,\n",
    "                                    'categorical_covariate_concept_value_mappings': categorical_covariate_concept_value_mappings,\n",
    "                                    'normal_covariate_concept_values': normal_covariate_concept_values\n",
    "                                  }"
   ]
  },
  {
   "cell_type": "code",
   "execution_count": 10,
   "metadata": {
    "button": false,
    "collapsed": true,
    "deletable": true,
    "new_sheet": false,
    "run_control": {
     "read_only": false
    }
   },
   "outputs": [],
   "source": [
    "with open('feature_extraction_settings.json', 'w') as f:\n",
    "    json.dump(feature_extraction_settings, f, indent=4)"
   ]
  },
  {
   "cell_type": "code",
   "execution_count": 11,
   "metadata": {
    "button": false,
    "collapsed": true,
    "deletable": true,
    "new_sheet": false,
    "run_control": {
     "read_only": false
    }
   },
   "outputs": [],
   "source": [
    "#Read settings from json files\n",
    "def read_settings(path):\n",
    "    with open(path) as f:\n",
    "        return json.load(f)\n",
    "    \n",
    "cohort_connection_settings = read_settings('cohort_connection_settings.json')\n",
    "feature_extraction_settings = read_settings('feature_extraction_settings.json')"
   ]
  },
  {
   "cell_type": "markdown",
   "metadata": {
    "button": false,
    "deletable": true,
    "new_sheet": false,
    "run_control": {
     "read_only": false
    }
   },
   "source": [
    "## Cohort Connector"
   ]
  },
  {
   "cell_type": "code",
   "execution_count": null,
   "metadata": {
    "button": false,
    "collapsed": false,
    "deletable": true,
    "new_sheet": false,
    "run_control": {
     "read_only": false
    }
   },
   "outputs": [],
   "source": [
    "cohort_connector = CohortConnector(file_path = 'cohort_connection_settings.json')"
   ]
  },
  {
   "cell_type": "code",
   "execution_count": null,
   "metadata": {
    "button": false,
    "collapsed": false,
    "deletable": true,
    "new_sheet": false,
    "run_control": {
     "read_only": false
    }
   },
   "outputs": [],
   "source": [
    "cohort_connector = CohortConnector( dbms = dbms,\n",
    "                                    path_to_driver = path_to_driver,\n",
    "                                    hostname = hostname,\n",
    "                                    port = port,\n",
    "                                    dbname = dbname,\n",
    "                                    user = user,\n",
    "                                    password = pw,\n",
    "                                    cdm_database_schema = cdm_database_schema, \n",
    "                                    target_cohort_database_schema = target_cohort_database_schema,\n",
    "                                    target_cohort_table = target_cohort_table,\n",
    "                                    target_cohort_id = target_cohort_id,\n",
    "                                    outcome_cohort_database_schema = outcome_cohort_database_schema,\n",
    "                                    outcome_cohort_table = outcome_cohort_table,\n",
    "                                    outcome_cohort_id = outcome_cohort_id)"
   ]
  },
  {
   "cell_type": "code",
   "execution_count": null,
   "metadata": {
    "button": false,
    "collapsed": false,
    "deletable": true,
    "new_sheet": false,
    "run_control": {
     "read_only": false
    }
   },
   "outputs": [],
   "source": [
    "cohort_connector.db_connection_details"
   ]
  },
  {
   "cell_type": "code",
   "execution_count": null,
   "metadata": {
    "button": false,
    "collapsed": false,
    "deletable": true,
    "new_sheet": false,
    "run_control": {
     "read_only": false
    }
   },
   "outputs": [],
   "source": [
    "cohort_connector.cohort_details"
   ]
  },
  {
   "cell_type": "markdown",
   "metadata": {
    "button": false,
    "deletable": true,
    "new_sheet": false,
    "run_control": {
     "read_only": false
    }
   },
   "source": [
    "## Feature Extraction"
   ]
  },
  {
   "cell_type": "code",
   "execution_count": null,
   "metadata": {
    "button": false,
    "collapsed": false,
    "deletable": true,
    "new_sheet": false,
    "run_control": {
     "read_only": false
    }
   },
   "outputs": [],
   "source": [
    "feature_extractor = FeatureExtractor(cohort_connector =  cohort_connector,\n",
    "                                     file_path = 'feature_extraction_settings.json')\n"
   ]
  },
  {
   "cell_type": "code",
   "execution_count": null,
   "metadata": {
    "button": false,
    "collapsed": false,
    "deletable": true,
    "new_sheet": false,
    "run_control": {
     "read_only": false
    },
    "scrolled": false
   },
   "outputs": [],
   "source": [
    "feature_extractor = FeatureExtractor(cohort_connector =  cohort_connector,\n",
    "                                    analysis_name = analysis_name,\n",
    "\n",
    "                                    use_demographics_gender = True,\n",
    "                                    use_demographics_age_group = True,\n",
    "                                    use_demographics_race = True,\n",
    "                                    use_demographics_ethnicity = True,\n",
    "                                    use_condition_occurrence_any_time_prior = True,\n",
    "                                    use_dcsi = True,\n",
    "                                    use_chads2 = True,\n",
    "                                    use_chads2_vasc = True,\n",
    "\n",
    "                                    min_fraction = min_fraction,\n",
    "                                    normalize = min_fraction,\n",
    "                                    remove_redundancy = min_fraction,\n",
    "\n",
    "                                    sample_size = sample_size, \n",
    "                                    val_size = val_size, \n",
    "                                    path = path,\n",
    "\n",
    "                                    included_covariate_concept_ids = included_covariate_concept_ids,\n",
    "                                    categorical_covariate_concept_ids = categorical_covariate_concept_ids,\n",
    "                                    numerical_covariate_concept_ids = numerical_covariate_concept_ids,\n",
    "                                    categorical_covariate_concept_value_mappings = categorical_covariate_concept_value_mappings,\n",
    "                                    normal_covariate_concept_values = normal_covariate_concept_values,\n",
    "                                   )"
   ]
  },
  {
   "cell_type": "code",
   "execution_count": null,
   "metadata": {
    "button": false,
    "collapsed": false,
    "deletable": true,
    "new_sheet": false,
    "run_control": {
     "read_only": false
    },
    "scrolled": false
   },
   "outputs": [],
   "source": [
    "import time\n",
    "start_time = time.time()\n",
    "feature_extractor.extract_features( \n",
    "                        setup = 'train'\n",
    "                      )\n",
    "duration = time.time() - start_time\n",
    "print(duration)"
   ]
  },
  {
   "cell_type": "code",
   "execution_count": null,
   "metadata": {
    "button": false,
    "collapsed": false,
    "deletable": true,
    "new_sheet": false,
    "run_control": {
     "read_only": false
    }
   },
   "outputs": [],
   "source": [
    "X_train = pd.read_csv('data/IHM_T{}_O{}_FEAT_TRAIN.csv'.format(target_cohort_id,outcome_cohort_id))\n",
    "X_train"
   ]
  },
  {
   "cell_type": "code",
   "execution_count": null,
   "metadata": {
    "button": false,
    "collapsed": false,
    "deletable": true,
    "new_sheet": false,
    "run_control": {
     "read_only": false
    }
   },
   "outputs": [],
   "source": [
    "X_val = pd.read_csv('data/IHM_T{}_O{}_FEAT_VAL.csv'.format(target_cohort_id,outcome_cohort_id))\n",
    "X_val"
   ]
  },
  {
   "cell_type": "code",
   "execution_count": null,
   "metadata": {
    "button": false,
    "collapsed": false,
    "deletable": true,
    "new_sheet": false,
    "run_control": {
     "read_only": false
    }
   },
   "outputs": [],
   "source": [
    "y_train = pd.read_csv('data/IHM_T{}_O{}_COHORT_OUT_TRAIN.csv'.format(target_cohort_id,outcome_cohort_id))\n",
    "y_train"
   ]
  },
  {
   "cell_type": "code",
   "execution_count": null,
   "metadata": {
    "button": false,
    "collapsed": false,
    "deletable": true,
    "new_sheet": false,
    "run_control": {
     "read_only": false
    }
   },
   "outputs": [],
   "source": [
    "y_val =  pd.read_csv('data/IHM_T{}_O{}_COHORT_OUT_VAL.csv'.format(target_cohort_id,outcome_cohort_id))\n",
    "y_val"
   ]
  },
  {
   "cell_type": "code",
   "execution_count": null,
   "metadata": {
    "button": false,
    "collapsed": false,
    "deletable": true,
    "new_sheet": false,
    "run_control": {
     "read_only": false
    }
   },
   "outputs": [],
   "source": [
    "#yaml config\n",
    "with open(\"IHM_T{}_O{}_expt_config.yaml\".format(target_cohort_id,outcome_cohort_id), 'r') as stream:\n",
    "    yaml_config = yaml.safe_load(stream)\n",
    "print(yaml.dump(yaml_config))"
   ]
  },
  {
   "cell_type": "code",
   "execution_count": null,
   "metadata": {
    "button": false,
    "collapsed": false,
    "deletable": true,
    "new_sheet": false,
    "run_control": {
     "read_only": false
    }
   },
   "outputs": [],
   "source": [
    "#Single patient\n",
    "X_pred = feature_extractor.extract_features(setup = 'prediction', \n",
    "                                subject_id = )\n",
    "X_pred"
   ]
  },
  {
   "cell_type": "code",
   "execution_count": null,
   "metadata": {
    "button": false,
    "collapsed": false,
    "deletable": true,
    "new_sheet": false,
    "run_control": {
     "read_only": false
    }
   },
   "outputs": [],
   "source": [
    "#Multiple patients\n",
    "X_pred1 = feature_extractor.extract_features(setup = 'prediction', \n",
    "                                subject_id = [])\n",
    "X_pred1"
   ]
  },
  {
   "cell_type": "code",
   "execution_count": null,
   "metadata": {
    "button": false,
    "collapsed": false,
    "deletable": true,
    "new_sheet": false,
    "run_control": {
     "read_only": false
    }
   },
   "outputs": [],
   "source": [
    "start_time"
   ]
  },
  {
   "cell_type": "code",
   "execution_count": null,
   "metadata": {
    "button": false,
    "collapsed": false,
    "deletable": true,
    "new_sheet": false,
    "run_control": {
     "read_only": false
    }
   },
   "outputs": [],
   "source": [
    "start_time2 = time.time()\n",
    "feature_extractor.extract_features(setup = 'prediction', \n",
    "                                subject_id = )\n",
    "duration2 = time.time() - start_time2\n",
    "duration2"
   ]
  },
  {
   "cell_type": "code",
   "execution_count": null,
   "metadata": {
    "button": false,
    "collapsed": true,
    "deletable": true,
    "new_sheet": false,
    "run_control": {
     "read_only": false
    }
   },
   "outputs": [],
   "source": []
  }
 ],
 "metadata": {
  "kernelspec": {
   "display_name": "Python 3",
   "language": "python",
   "name": "python3"
  },
  "language_info": {
   "codemirror_mode": {
    "name": "ipython",
    "version": 3
   },
   "file_extension": ".py",
   "mimetype": "text/x-python",
   "name": "python",
   "nbconvert_exporter": "python",
   "pygments_lexer": "ipython3",
   "version": "3.5.0"
  }
 },
 "nbformat": 4,
 "nbformat_minor": 4
}
