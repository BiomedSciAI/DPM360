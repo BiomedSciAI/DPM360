{
 "cells": [
  {
   "cell_type": "code",
   "execution_count": null,
   "metadata": {},
   "outputs": [],
   "source": [
    "%matplotlib inline"
   ]
  },
  {
   "cell_type": "code",
   "execution_count": null,
   "metadata": {},
   "outputs": [],
   "source": [
    "import pandas as pd\n",
    "import numpy as np\n",
    "from tqdm.auto import tqdm"
   ]
  },
  {
   "cell_type": "code",
   "execution_count": null,
   "metadata": {},
   "outputs": [],
   "source": [
    "tqdm.pandas()"
   ]
  },
  {
   "cell_type": "code",
   "execution_count": null,
   "metadata": {},
   "outputs": [],
   "source": [
    "import os\n",
    "import json\n",
    "import pickle\n",
    "from pathlib import Path"
   ]
  },
  {
   "cell_type": "code",
   "execution_count": null,
   "metadata": {
    "lines_to_next_cell": 0
   },
   "outputs": [],
   "source": [
    "raw_dir = Path('/data/mimiciii_benchmark/in-hospital-mortality/')  # replace with your from mimic-3 benchmark\n",
    "out_dir = Path('./data/')\n",
    "\n",
    "train_dir = raw_dir / 'train'\n",
    "val_dir = raw_dir / 'train'\n",
    "test_dir = raw_dir / 'test'\n",
    "\n",
    "train_listfile = raw_dir / 'train_listfile.csv'\n",
    "val_listfile = raw_dir / 'val_listfile.csv'\n",
    "test_listfile = raw_dir / 'test_listfile.csv'"
   ]
  },
  {
   "cell_type": "markdown",
   "metadata": {},
   "source": [
    "\n"
   ]
  },
  {
   "cell_type": "markdown",
   "metadata": {
    "lines_to_next_cell": 2
   },
   "source": [
    "## Restructuring data to LS\n",
    "\n",
    "\n",
    "**Output**\n",
    "\n",
    "Data Config: \n",
    "\n",
    "```yaml\n",
    "tgt_col: 'y_true'\n",
    "idx_cols: ['stay'] \n",
    "time_order_col: ['Hours', 'seqnum']\n",
    "```"
   ]
  },
  {
   "cell_type": "code",
   "execution_count": null,
   "metadata": {},
   "outputs": [],
   "source": [
    "def process_ts(fname, t_data=48.0, index_col='Hours', timestep=1.0):\n",
    "    df = pd.read_csv(fname)\n",
    "\n",
    "    if t_data:\n",
    "        df = df[df[index_col] < t_data]\n",
    "\n",
    "    df['seqnum'] = np.floor(df[index_col] / timestep)\n",
    "\n",
    "    df = df.sort_index(axis=0).groupby('seqnum', as_index=False).last() #.reset_index()\n",
    "    \n",
    "    return df"
   ]
  },
  {
   "cell_type": "markdown",
   "metadata": {},
   "source": [
    "### Training"
   ]
  },
  {
   "cell_type": "code",
   "execution_count": null,
   "metadata": {},
   "outputs": [],
   "source": [
    "df_y_train = pd.read_csv(train_listfile)\n",
    "df_y_train.y_true.value_counts().plot.barh()\n",
    "df_y_train.head()"
   ]
  },
  {
   "cell_type": "code",
   "execution_count": null,
   "metadata": {},
   "outputs": [],
   "source": [
    "df_x_train = []\n",
    "for stay in tqdm(df_y_train.stay):\n",
    "    _tmp = process_ts(train_dir / stay)\n",
    "    _tmp['stay'] = stay\n",
    "    df_x_train.append(_tmp)\n",
    "del(_tmp)\n",
    "\n",
    "df_x_train = pd.concat(df_x_train, ignore_index=True)\n",
    "df_x_train.set_index(['stay', 'seqnum'], inplace=True)\n",
    "print('Done')\n",
    "df_x_train.head()"
   ]
  },
  {
   "cell_type": "code",
   "execution_count": null,
   "metadata": {},
   "outputs": [],
   "source": [
    "df_y_train.sort_values(['stay']).to_csv(out_dir/'IHM_V0_COHORT_OUT_EXP-SPLIT0-train.csv', index=False)\n",
    "df_x_train.sort_index().to_csv(out_dir/'IHM_V0_FEAT_EXP-SPLIT0-train.csv')"
   ]
  },
  {
   "cell_type": "markdown",
   "metadata": {},
   "source": [
    "### Validation"
   ]
  },
  {
   "cell_type": "code",
   "execution_count": null,
   "metadata": {},
   "outputs": [],
   "source": [
    "df_y_val = pd.read_csv(val_listfile)\n",
    "df_y_val.y_true.value_counts().plot.barh()\n",
    "df_y_val.head()"
   ]
  },
  {
   "cell_type": "code",
   "execution_count": null,
   "metadata": {},
   "outputs": [],
   "source": [
    "df_x_val = []\n",
    "for stay in tqdm(df_y_val.stay):\n",
    "    try:\n",
    "        _tmp = process_ts(val_dir / stay)\n",
    "        _tmp['stay'] = stay\n",
    "        df_x_val.append(_tmp)\n",
    "    except FileNotFoundError:\n",
    "        print(f'{val_dir / stay} not found.... skipping')\n",
    "del(_tmp)\n",
    "\n",
    "df_x_val = pd.concat(df_x_val, ignore_index=True)\n",
    "df_x_val.set_index(['stay', 'seqnum'], inplace=True)\n",
    "print('Done')\n",
    "df_x_val.head()"
   ]
  },
  {
   "cell_type": "code",
   "execution_count": null,
   "metadata": {},
   "outputs": [],
   "source": [
    "df_y_val.sort_values(['stay']).to_csv(out_dir/'IHM_V0_COHORT_OUT_EXP-SPLIT0-val.csv', index=False)\n",
    "df_x_val.sort_index().to_csv(out_dir/'IHM_V0_FEAT_EXP-SPLIT0-val.csv')"
   ]
  },
  {
   "cell_type": "markdown",
   "metadata": {},
   "source": [
    "### Test"
   ]
  },
  {
   "cell_type": "code",
   "execution_count": null,
   "metadata": {},
   "outputs": [],
   "source": [
    "df_y_test = pd.read_csv(test_listfile)\n",
    "df_y_test.y_true.value_counts().plot.barh()\n",
    "df_y_test.head()"
   ]
  },
  {
   "cell_type": "code",
   "execution_count": null,
   "metadata": {},
   "outputs": [],
   "source": [
    "df_x_test = []\n",
    "for stay in tqdm(df_y_test.stay):\n",
    "    try:\n",
    "        _tmp = process_ts(test_dir / stay)\n",
    "        _tmp['stay'] = stay\n",
    "        df_x_test.append(_tmp)\n",
    "    except FileNotFoundError:\n",
    "        print(f'{test_dir / stay} not found.... skipping')\n",
    "del(_tmp)\n",
    "\n",
    "df_x_test = pd.concat(df_x_test, ignore_index=True)\n",
    "df_x_test.set_index(['stay', 'seqnum'], inplace=True)\n",
    "print('Done')\n",
    "df_x_test.head()"
   ]
  },
  {
   "cell_type": "code",
   "execution_count": null,
   "metadata": {},
   "outputs": [],
   "source": [
    "df_y_test.sort_values(['stay']).to_csv(out_dir/'IHM_V0_COHORT_OUT_EXP-SPLIT0-test.csv', index=False)\n",
    "df_x_test.sort_index().to_csv(out_dir/'IHM_V0_FEAT_EXP-SPLIT0-test.csv')"
   ]
  }
 ],
 "metadata": {
  "kernelspec": {
   "display_name": "Python [conda env:cfs2.0]",
   "language": "python",
   "name": "conda-env-cfs2.0-py"
  },
  "language_info": {
   "codemirror_mode": {
    "name": "ipython",
    "version": 3
   },
   "file_extension": ".py",
   "mimetype": "text/x-python",
   "name": "python",
   "nbconvert_exporter": "python",
   "pygments_lexer": "ipython3",
   "version": "3.7.5"
  }
 },
 "nbformat": 4,
 "nbformat_minor": 4
}
