{
 "cells": [
  {
   "cell_type": "markdown",
   "metadata": {},
   "source": [
    "# MIMIC III Inhospital Mortality Benchmark Cohort"
   ]
  },
  {
   "cell_type": "markdown",
   "metadata": {},
   "source": [
    "### Import packages"
   ]
  },
  {
   "cell_type": "code",
   "execution_count": null,
   "metadata": {},
   "outputs": [],
   "source": [
    "#import required packages\n",
    "import json \n",
    "import pandas as pd\n",
    "import numpy as np\n",
    "from rpy2.robjects import r\n",
    "from rpy2 import robjects as ro\n",
    "from rpy2.robjects.packages import importr\n",
    "\n",
    "from rpy2.robjects import pandas2ri\n",
    "pandas2ri.activate()\n",
    "\n",
    "base = importr('base')\n",
    "database_connector = importr('DatabaseConnector')"
   ]
  },
  {
   "cell_type": "markdown",
   "metadata": {},
   "source": [
    "### Specify details for connecting to the server and feating data"
   ]
  },
  {
   "cell_type": "code",
   "execution_count": null,
   "metadata": {},
   "outputs": [],
   "source": [
    "# Specify details for connecting to the server\n",
    "dbms = ''\n",
    "path_to_driver = ''\n",
    "user = ''\n",
    "pw = ''\n",
    "server = ''\n",
    "port = ''\n",
    "\n",
    "create_connection_details = database_connector.createConnectionDetails\n",
    "\n",
    "connection_details = create_connection_details(dbms = dbms,\n",
    "                                               pathToDriver = path_to_driver,\n",
    "                                               server = server,\n",
    "                                               user = user,\n",
    "                                               password = pw,\n",
    "                                               port = port)"
   ]
  },
  {
   "cell_type": "code",
   "execution_count": null,
   "metadata": {},
   "outputs": [],
   "source": [
    "def fetch_data(query):\n",
    "    connect = database_connector.connect\n",
    "    query_sql = database_connector.querySql\n",
    "    conn = connect(connection_details)\n",
    "    return query_sql(conn, query)"
   ]
  },
  {
   "cell_type": "markdown",
   "metadata": {},
   "source": [
    "#### Define the target cohort"
   ]
  },
  {
   "cell_type": "code",
   "execution_count": null,
   "metadata": {},
   "outputs": [],
   "source": [
    "def get_patients():\n",
    "    query = \"\"\"\n",
    "               SELECT *\n",
    "               FROM omop2.person\n",
    "            \n",
    "            \"\"\"\n",
    "    return fetch_data(query)\n",
    "patients = get_patients()\n",
    "patients"
   ]
  },
  {
   "cell_type": "code",
   "execution_count": null,
   "metadata": {},
   "outputs": [],
   "source": [
    "fetch_data(\"select * from pg_indexes where schemaname ='omop2'\")"
   ]
  },
  {
   "cell_type": "code",
   "execution_count": null,
   "metadata": {},
   "outputs": [],
   "source": [
    "def get_hosp_admissions():\n",
    "    query = \"\"\" \n",
    "                SELECT * \n",
    "                FROM omop2.visit_occurrence \n",
    "                WHERE visit_concept_id IN (9201, 9203, 262)\n",
    "                \n",
    "            \"\"\"\n",
    "    return fetch_data(query)\n",
    "hosp_admissions = get_hosp_admissions()\n",
    "hosp_admissions "
   ]
  },
  {
   "cell_type": "code",
   "execution_count": null,
   "metadata": {},
   "outputs": [],
   "source": [
    "def get_counts(icustays, counts, step = 'root', prev_step = None):\n",
    "    \n",
    "    if step == 'root':\n",
    "        counts[step] = dict()\n",
    "        counts[step]['included'] = dict()\n",
    "        counts[step]['included']['patients'] = len(icustays['PERSON_ID'].unique())\n",
    "        counts[step]['included']['hospitalizations'] = len(icustays['VISIT_OCCURRENCE_ID'].unique())\n",
    "        counts[step]['included']['icustays'] = len(icustays['VISIT_DETAIL_ID'].unique())\n",
    "    else:\n",
    "        counts[step] = dict()\n",
    "        counts[step]['included'] = dict() \n",
    "        counts[step]['included'] ['patients'] = len(icustays['PERSON_ID'].unique())\n",
    "        counts[step]['included'] ['hospitalizations'] = len(icustays['VISIT_OCCURRENCE_ID'].unique())\n",
    "        counts[step]['included'] ['icustays'] = len(icustays['VISIT_DETAIL_ID'].unique())\n",
    "\n",
    "        counts[step]['excluded'] = dict() \n",
    "        counts[step]['excluded'] ['patients'] = counts[prev_step]['included'] ['patients'] - counts[step]['included'] ['patients']\n",
    "        counts[step]['excluded'] ['hospitalizations'] = counts[prev_step]['included'] ['hospitalizations'] - counts[step]['included'] ['hospitalizations']\n",
    "        counts[step]['excluded'] ['icustays'] = counts[prev_step]['included'] ['icustays'] - counts[step]['included'] ['icustays']\n",
    "\n",
    "    return counts\n",
    "    \n"
   ]
  },
  {
   "cell_type": "code",
   "execution_count": null,
   "metadata": {},
   "outputs": [],
   "source": [
    "\n",
    "def get_icustays():\n",
    "    \"\"\"Get all ICU stays\"\"\"\n",
    "    \n",
    "    query = \"\"\"\n",
    "                SELECT *\n",
    "                From omop2.visit_detail \n",
    "                WHERE visit_detail_concept_id = 32037\n",
    "                AND visit_type_concept_id = 2000000006\n",
    "            \n",
    "            \"\"\"\n",
    "    \n",
    "    icustays = fetch_data(query)\n",
    "    \n",
    "    return icustays\n",
    "\n",
    "icustays = get_icustays()\n",
    "icustays"
   ]
  },
  {
   "cell_type": "code",
   "execution_count": null,
   "metadata": {},
   "outputs": [],
   "source": [
    "counts = dict()\n",
    "counts = get_counts(icustays, counts, step = 'root')\n",
    "counts"
   ]
  },
  {
   "cell_type": "code",
   "execution_count": null,
   "metadata": {},
   "outputs": [],
   "source": [
    "def exclude_multiple_icustays(icustays):\n",
    "    \"\"\"Exclude 2+ ICU stays per admission and multiple ICU transfers\"\"\"\n",
    "    icustays_per_admission = icustays['VISIT_OCCURRENCE_ID'].value_counts().reset_index().rename(columns ={'index':'VISIT_OCCURRENCE_ID','VISIT_OCCURRENCE_ID':'count'})\n",
    "    to_keep = icustays_per_admission['VISIT_OCCURRENCE_ID'][icustays_per_admission['count']==1]\n",
    "    \n",
    "    icustays = icustays[icustays['VISIT_OCCURRENCE_ID'].isin(to_keep)].copy()\n",
    "    return icustays\n",
    "\n",
    "filtered_icustays = exclude_multiple_icustays(icustays)\n",
    "filtered_icustays "
   ]
  },
  {
   "cell_type": "code",
   "execution_count": null,
   "metadata": {},
   "outputs": [],
   "source": [
    "counts = get_counts(filtered_icustays , counts, 'step1_exclude_multiple_stays','root')\n",
    "counts "
   ]
  },
  {
   "cell_type": "code",
   "execution_count": null,
   "metadata": {
    "scrolled": false
   },
   "outputs": [],
   "source": [
    "def add_age_to_icustays(patients, icustays):\n",
    "    icustays['BIRTH_DATETIME'] = [patients['BIRTH_DATETIME'][patients['PERSON_ID']== i].iloc[0] for i in icustays['PERSON_ID']]\n",
    "    age_in_days = icustays['VISIT_START_DATETIME'].dt.to_pydatetime() - icustays['BIRTH_DATETIME'].dt.to_pydatetime()\n",
    "    icustays['AGE'] = [i.days/365.25 for i in age_in_days]\n",
    "    icustays.loc[icustays['AGE'] < 0, 'AGE'] = 90\n",
    "    return icustays\n",
    "filtered_icustays = add_age_to_icustays(patients, filtered_icustays)\n",
    "filtered_icustays                                        "
   ]
  },
  {
   "cell_type": "code",
   "execution_count": null,
   "metadata": {},
   "outputs": [],
   "source": [
    "def exclude_pediatrics(icustays, min_age=18, max_age=np.inf):\n",
    "    \"\"\"Exclude Pediatric patients\"\"\"\n",
    "    icustays = icustays[(icustays['AGE'] >= min_age) & (icustays['AGE'] <= max_age)]\n",
    "    return icustays\n",
    "\n",
    "filtered_icustays = exclude_pediatrics(filtered_icustays)\n",
    "filtered_icustays"
   ]
  },
  {
   "cell_type": "code",
   "execution_count": null,
   "metadata": {},
   "outputs": [],
   "source": [
    "counts = get_counts(filtered_icustays, counts, 'step2_exclude_pediatric_patients','step1_exclude_multiple_stays')\n",
    "counts"
   ]
  },
  {
   "cell_type": "code",
   "execution_count": null,
   "metadata": {},
   "outputs": [],
   "source": [
    "def exclude_icustays_on_length_of_stay(icustays, min_los=48, max_los=np.inf):\n",
    "    \"\"\"Exclude ICU stays with length-of-stay less than 48 hours\"\"\"\n",
    "    icustays= icustays.copy()\n",
    "    icustays['LENGTH_OF_STAY'] = icustays['VISIT_END_DATETIME'].dt.to_pydatetime() - icustays['VISIT_START_DATETIME'].dt.to_pydatetime()\n",
    "    icustays['LENGTH_OF_STAY'] =icustays['LENGTH_OF_STAY']/np.timedelta64(1, 'h')\n",
    "    icustays = icustays[(icustays['LENGTH_OF_STAY'] >= min_los) & (icustays['LENGTH_OF_STAY'] <= max_los)]\n",
    "    return icustays\n",
    "\n",
    "filtered_icustays = exclude_icustays_on_length_of_stay(filtered_icustays)\n",
    "filtered_icustays"
   ]
  },
  {
   "cell_type": "code",
   "execution_count": null,
   "metadata": {},
   "outputs": [],
   "source": [
    "counts = get_counts(filtered_icustays, counts, 'step3_exclude_icustays_less_than_48_hours','step2_exclude_pediatric_patients')\n",
    "counts "
   ]
  },
  {
   "cell_type": "code",
   "execution_count": null,
   "metadata": {},
   "outputs": [],
   "source": [
    "def exclude_icustays_with_no_events(icustays):\n",
    "    \"\"\"Exclude ICU stays with no events before 48 hours\"\"\"\n",
    "    query = \"\"\"\n",
    "               SELECT distinct A.person_id, A.visit_detail_id\n",
    "               FROM omop2.measurement A\n",
    "               inner join omop2.visit_detail B on A.VISIT_DETAIL_ID = B.VISIT_DETAIL_ID\n",
    "               AND A.measurement_datetime <= B.visit_start_datetime + INTERVAL '2 day'\n",
    "\n",
    "            \"\"\"\n",
    "    to_keep = fetch_data(query)\n",
    "    return icustays[icustays['VISIT_DETAIL_ID'].isin(to_keep['VISIT_DETAIL_ID'])].copy()\n",
    "filtered_icustays = exclude_icustays_with_no_events(filtered_icustays)\n",
    "filtered_icustays"
   ]
  },
  {
   "cell_type": "code",
   "execution_count": null,
   "metadata": {},
   "outputs": [],
   "source": [
    "counts = get_counts(filtered_icustays, counts, 'step4_exclude_icu_stays_with_no_events_within_48_hours','step3_exclude_icustays_less_than_48_hours')\n",
    "counts"
   ]
  },
  {
   "cell_type": "code",
   "execution_count": null,
   "metadata": {},
   "outputs": [],
   "source": [
    "def get_cohort_start_date(icustays):\n",
    "    df = icustays.groupby(['PERSON_ID']).agg({'VISIT_START_DATETIME': 'min'}).reset_index()\n",
    "    df.columns = ['SUBJECT_ID','COHORT_START_DATE']\n",
    "    return df\n"
   ]
  },
  {
   "cell_type": "code",
   "execution_count": null,
   "metadata": {},
   "outputs": [],
   "source": [
    "def get_cohort_end_date(icustays):\n",
    "    df = icustays.groupby(['PERSON_ID']).agg({'VISIT_END_DATETIME': 'max'}).reset_index()\n",
    "    df.columns = ['SUBJECT_ID','COHORT_END_DATE']\n",
    "    return df\n"
   ]
  },
  {
   "cell_type": "code",
   "execution_count": null,
   "metadata": {},
   "outputs": [],
   "source": [
    "target_cohort = filtered_icustays.copy()\n",
    "target_cohort['COHORT_DEFINITION_ID'] = 10001\n",
    "target_cohort = target_cohort[['COHORT_DEFINITION_ID','PERSON_ID']].drop_duplicates()\n",
    "target_cohort.columns = ['COHORT_DEFINITION_ID','SUBJECT_ID']\n",
    "\n",
    "start_date = get_cohort_start_date(icustays)\n",
    "end_date = get_cohort_end_date(icustays)\n",
    "\n",
    "target_cohort = target_cohort.merge(start_date, on ='SUBJECT_ID').merge(end_date, on = 'SUBJECT_ID')\n",
    "target_cohort "
   ]
  },
  {
   "cell_type": "markdown",
   "metadata": {},
   "source": [
    "#### Define the outcome cohort"
   ]
  },
  {
   "cell_type": "code",
   "execution_count": null,
   "metadata": {},
   "outputs": [],
   "source": [
    "def get_mortalities(cohort_id):\n",
    "    query = \"\"\"\n",
    "                SELECT {} AS COHORT_DEFINITION_ID,\n",
    "                       D.PERSON_ID AS SUBJECT_ID,\n",
    "                       D.DEATH_DATETIME AS COHORT_START_DATE,\n",
    "                       V.VISIT_END_DATETIME AS COHORT_END_DATE\n",
    "                FROM (SELECT PERSON_ID, \n",
    "                             DEATH_DATETIME\n",
    "                             FROM omop2.death) D\n",
    "                INNER JOIN (SELECT  PERSON_ID,\n",
    "                                    VISIT_END_DATETIME\n",
    "                            FROM omop2.visit_detail \n",
    "                            WHERE visit_detail_concept_id = 32037                          \n",
    "                                  AND visit_type_concept_id = 2000000006                             \n",
    "                                  AND discharge_to_concept_id = 4216643) V\n",
    "                            ON D.PERSON_ID = V.PERSON_ID\n",
    "            \"\"\".format(cohort_id)\n",
    "    return fetch_data(query)\n",
    "\n",
    "outcome_cohort = get_mortalities(10002)\n",
    "outcome_cohort"
   ]
  },
  {
   "cell_type": "markdown",
   "metadata": {},
   "source": [
    "#### Submit cohorts to DB"
   ]
  },
  {
   "cell_type": "code",
   "execution_count": null,
   "metadata": {},
   "outputs": [],
   "source": [
    "def insert_data(data, connection_details):\n",
    "    \n",
    "    connect = database_connector.connect\n",
    "    conn = connect(connection_details)\n",
    "\n",
    "    r(\"\"\"\n",
    "          insertCohortData <-function(data, conn){\n",
    "\n",
    "              data$COHORT_START_DATE <- as.Date(data$COHORT_START_DATE, origin = \"1970-01-01\")\n",
    "              data$COHORT_END_DATE <- as.Date(data$COHORT_END_DATE, origin = \"1970-01-01\")\n",
    "              \n",
    "              cohort_ids <- unique(data$COHORT_DEFINITION_ID)\n",
    "              statement <- sprintf(\"DELETE FROM results.cohort WHERE COHORT_DEFINITION_ID in (%s)\", paste(cohort_ids,collapse=\", \"))\n",
    "              dbSendStatement(conn,statement)\n",
    "              \n",
    "              print(head(data))\n",
    "              insertTable(conn = conn, \n",
    "                databaseSchema = 'results', \n",
    "                tableName = 'cohort', \n",
    "                data = data,\n",
    "                dropTableIfExists = FALSE,\n",
    "                createTable = FALSE,\n",
    "                tempTable = FALSE\n",
    "                )\n",
    "              \n",
    "          }\n",
    "      \"\"\")\n",
    "    \n",
    "    insert_cohort_data = r['insertCohortData']\n",
    "    insert_cohort_data(data, conn)\n",
    "    \n",
    "    return \n",
    "\n"
   ]
  },
  {
   "cell_type": "code",
   "execution_count": null,
   "metadata": {},
   "outputs": [],
   "source": [
    "insert_data(target_cohort, connection_details)"
   ]
  },
  {
   "cell_type": "code",
   "execution_count": null,
   "metadata": {},
   "outputs": [],
   "source": [
    "insert_data(outcome_cohort, connection_details)"
   ]
  },
  {
   "cell_type": "code",
   "execution_count": null,
   "metadata": {},
   "outputs": [],
   "source": [
    "query = \"\"\"\n",
    "            SELECT *\n",
    "            FROM results.cohort\n",
    "            WHERE COHORT_DEFINITION_ID IN (10001,10002)\n",
    "\n",
    "        \"\"\"\n",
    "cohorts = fetch_data(query)\n",
    "cohorts"
   ]
  },
  {
   "cell_type": "code",
   "execution_count": null,
   "metadata": {},
   "outputs": [],
   "source": [
    "def get_intersect(idx1, idx2):\n",
    "    idx1_set = set(cohorts['SUBJECT_ID'][cohorts['COHORT_DEFINITION_ID']==idx1])\n",
    "    idx2_set = set(cohorts['SUBJECT_ID'][cohorts['COHORT_DEFINITION_ID']==idx2])\n",
    "    return idx1_set.intersection(idx2_set)"
   ]
  },
  {
   "cell_type": "code",
   "execution_count": null,
   "metadata": {},
   "outputs": [],
   "source": [
    "len(get_intersect(10001, 10002))"
   ]
  }
 ],
 "metadata": {
  "kernelspec": {
   "display_name": "Python 3",
   "language": "python",
   "name": "python3"
  },
  "language_info": {
   "codemirror_mode": {
    "name": "ipython",
    "version": 3
   },
   "file_extension": ".py",
   "mimetype": "text/x-python",
   "name": "python",
   "nbconvert_exporter": "python",
   "pygments_lexer": "ipython3",
   "version": "3.8.5"
  }
 },
 "nbformat": 4,
 "nbformat_minor": 4
}
