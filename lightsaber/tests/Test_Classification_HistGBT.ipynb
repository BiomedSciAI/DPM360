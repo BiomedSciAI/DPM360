{
 "cells": [
  {
   "cell_type": "markdown",
   "metadata": {},
   "source": [
    "# Test Classification Using HistGBT\n",
    "\n",
    "This Notebook tests the usage of `HistGBT` for classification on test data genereated from [mk_test_data.py](./mk_test_data.py).\n",
    "\n",
    "<!-- #endregion -->\n",
    "\n",
    "## Pre-amble\n",
    "\n",
    "The following code cell imports the required libraries and sets up the notebook"
   ]
  },
  {
   "cell_type": "code",
   "execution_count": null,
   "metadata": {},
   "outputs": [],
   "source": [
    "import os\n",
    "#TEST_REGISTRATION = os.environ.get('test_registration', False)"
   ]
  },
  {
   "cell_type": "code",
   "execution_count": null,
   "metadata": {},
   "outputs": [],
   "source": [
    "import sys\n",
    "sys.path.append('../')"
   ]
  },
  {
   "cell_type": "code",
   "execution_count": null,
   "metadata": {},
   "outputs": [],
   "source": [
    "# Jupyter notebook Specific imports\n",
    "%matplotlib inline\n",
    "\n",
    "import warnings\n",
    "warnings.filterwarnings('ignore')\n",
    "\n",
    "# Imports injecting into namespace\n",
    "from tqdm.auto import tqdm\n",
    "tqdm.pandas()\n",
    "\n",
    "# General imports\n",
    "import os\n",
    "import json\n",
    "import pickle\n",
    "from pathlib import Path\n",
    "\n",
    "import pandas as pd\n",
    "import numpy as np\n",
    "from getpass import getpass\n",
    "import argparse\n",
    "\n",
    "from sklearn.preprocessing import StandardScaler\n",
    "from sklearn.exceptions import NotFittedError\n",
    "\n",
    "from lightsaber import constants as C\n",
    "import lightsaber.data_utils.utils as du\n",
    "from lightsaber.data_utils.pt_dataset import (filter_preprocessor)\n",
    "from lightsaber.data_utils import sk_dataloader as skd\n",
    "from lightsaber.trainers import sk_trainer as skr\n",
    "\n",
    "from sklearn.ensemble import HistGradientBoostingClassifier\n",
    "\n",
    "import logging\n",
    "log = logging.getLogger()"
   ]
  },
  {
   "cell_type": "code",
   "execution_count": null,
   "metadata": {},
   "outputs": [],
   "source": [
    "import io\n",
    "\n",
    "data_dir = Path('./data')\n",
    "assert data_dir.is_dir()\n",
    "\n",
    "expt_conf = f\"\"\"\n",
    "tgt_col: treatment\n",
    "\n",
    "idx_cols: \n",
    "    - id\n",
    "    - time\n",
    "time_order_col: \n",
    "    - time_history\n",
    "\n",
    "feat_cols: \n",
    "    - prev_cov1\n",
    "    - prev_treat\n",
    "\n",
    "train:\n",
    "    tgt_file: '{data_dir}/easiest_sim_shifted_TGT_train.csv'\n",
    "    feat_file: '{data_dir}/easiest_sim_shifted_FEAT_train.csv'\n",
    "\n",
    "val:\n",
    "    tgt_file: '{data_dir}/easiest_sim_shifted_TGT_val.csv'\n",
    "    feat_file: '{data_dir}/easiest_sim_shifted_FEAT_val.csv'\n",
    "    \n",
    "test:\n",
    "    tgt_file: '{data_dir}/easiest_sim_shifted_TGT_test.csv'\n",
    "    feat_file: '{data_dir}/easiest_sim_shifted_FEAT_test.csv'\n",
    "\n",
    "category_map:\n",
    "    prev_treat: [0, 1]\n",
    "    \n",
    "numerical: \n",
    "    - prev_cov1\n",
    "\n",
    "normal_values:\n",
    "    prev_cov1: 0.\n",
    "    prev_treat: 0\n",
    "\"\"\"\n",
    "expt_conf = du.yaml.load(io.StringIO(expt_conf), Loader=du._Loader)"
   ]
  },
  {
   "cell_type": "markdown",
   "metadata": {
    "tags": []
   },
   "source": [
    "## Model Training\n",
    "\n",
    "In general, user need to follow the following steps to train a `HistGBT` for classification model.\n",
    "\n",
    "* _Data Ingestion_: The first step involves setting up the pre-processors to train a classification model. In this example, we will flatten the temporal data using pre-defined pipelines and further use `StandardScaler` from `scikit-learn` using filters defined within lightsaber.\n",
    "\n",
    "  - We would next read the train, test, and validation dataset. In some cases, users may also want to define a calibration dataset\n",
    "    \n",
    "* _Model Definition_: We would next need to define a base model for classification. In this example, we will use a standard `scikit-learn::HistGBT` model \n",
    "\n",
    "* _Model Training_: Once the models are defined, we can use `lightsaber` to train the model via the pre-packaged `SKModel` and the corresponding trainer code. This step will also generate the relevant `metrics` for this problem.\n",
    "\n",
    "  - we will also show how to train a single hyper-parameter setting as well as a grid search over a pre-specified hyper-parameter space.\n",
    "\n"
   ]
  },
  {
   "cell_type": "markdown",
   "metadata": {},
   "source": [
    "### Data ingestion\n",
    "\n",
    "We firs start by reading extracted cohort data and use a `StandardScaler` demonstrating the proper usage of a pre-processor"
   ]
  },
  {
   "cell_type": "code",
   "execution_count": null,
   "metadata": {},
   "outputs": [],
   "source": [
    "flatten = 'mean'\n",
    "preprocessor = StandardScaler()\n",
    "train_filter = [filter_preprocessor(cols=expt_conf['numerical'], \n",
    "                                    preprocessor=preprocessor,\n",
    "                                    refit=True),\n",
    "               ]\n",
    "\n",
    "train_dataloader = skd.SKDataLoader(tgt_file=expt_conf['train']['tgt_file'],\n",
    "                                    feat_file=expt_conf['train']['feat_file'],\n",
    "                                    idx_col=expt_conf['idx_cols'],\n",
    "                                    tgt_col=expt_conf['tgt_col'],\n",
    "                                    feat_columns=expt_conf['feat_cols'],\n",
    "                                    time_order_col=expt_conf['time_order_col'],\n",
    "                                    category_map=expt_conf['category_map'],\n",
    "                                    filter=train_filter,\n",
    "                                    fill_value=expt_conf['normal_values'],\n",
    "                                    flatten=flatten,\n",
    "                                   )\n",
    "print(train_dataloader.shape, len(train_dataloader))\n",
    "\n",
    "# For other datasets use fitted preprocessors\n",
    "fitted_filter = [filter_preprocessor(cols=expt_conf['numerical'], \n",
    "                                     preprocessor=preprocessor, refit=False),\n",
    "                 ]\n",
    "val_dataloader = skd.SKDataLoader(tgt_file=expt_conf['val']['tgt_file'],\n",
    "                                  feat_file=expt_conf['val']['feat_file'],\n",
    "                                  idx_col=expt_conf['idx_cols'],\n",
    "                                  tgt_col=expt_conf['tgt_col'],\n",
    "                                  feat_columns=expt_conf['feat_cols'],\n",
    "                                  time_order_col=expt_conf['time_order_col'],\n",
    "                                  category_map=expt_conf['category_map'],\n",
    "                                  filter=fitted_filter,\n",
    "                                  fill_value=expt_conf['normal_values'],\n",
    "                                  flatten=flatten,\n",
    "                                )\n",
    "\n",
    "test_dataloader = skd.SKDataLoader(tgt_file=expt_conf['test']['tgt_file'],\n",
    "                                  feat_file=expt_conf['test']['feat_file'],\n",
    "                                  idx_col=expt_conf['idx_cols'],\n",
    "                                  tgt_col=expt_conf['tgt_col'],\n",
    "                                  feat_columns=expt_conf['feat_cols'],\n",
    "                                  time_order_col=expt_conf['time_order_col'],\n",
    "                                  category_map=expt_conf['category_map'],\n",
    "                                  filter=fitted_filter,\n",
    "                                  fill_value=expt_conf['normal_values'],\n",
    "                                  flatten=flatten,\n",
    "                                )\n",
    "\n",
    "print(val_dataloader.shape, len(val_dataloader))\n",
    "print(test_dataloader.shape, len(test_dataloader))"
   ]
  },
  {
   "cell_type": "markdown",
   "metadata": {
    "tags": []
   },
   "source": [
    "### Training a single model"
   ]
  },
  {
   "cell_type": "markdown",
   "metadata": {
    "lines_to_next_cell": 0
   },
   "source": [
    "#### Model definition\n",
    "\n",
    "We can define a base classification model using standard `scikit-learn` workflow as below:"
   ]
  },
  {
   "cell_type": "code",
   "execution_count": null,
   "metadata": {},
   "outputs": [],
   "source": [
    "model_name = 'HistGBT'\n",
    "hparams = argparse.Namespace(learning_rate=0.01,\n",
    "                             max_iter=100,\n",
    "                             l2_regularization=0.01\n",
    "                             )\n",
    "\n",
    "base_model = HistGradientBoostingClassifier(learning_rate=hparams.learning_rate, \n",
    "                                            l2_regularization=hparams.l2_regularization, \n",
    "                                            max_iter=hparams.max_iter)\n",
    "\n",
    "wrapped_model = skr.SKModel(base_model, hparams, name=model_name)"
   ]
  },
  {
   "cell_type": "markdown",
   "metadata": {
    "lines_to_next_cell": 0
   },
   "source": [
    "#### Model training with in-built model tracking and evaluation"
   ]
  },
  {
   "cell_type": "code",
   "execution_count": null,
   "metadata": {},
   "outputs": [],
   "source": [
    "mlflow_conf = dict(experiment_name=f'classifier_test')\n",
    "artifacts = dict(preprocessor=preprocessor)\n",
    "experiment_tags = dict(model=model_name, \n",
    "                       tune=False)\n",
    "\n",
    "(run_id, metrics, \n",
    " val_y, val_yhat, val_pred_proba, \n",
    " test_y, test_yhat, test_pred_proba) = skr.run_training_with_mlflow(mlflow_conf, \n",
    "                                                                    wrapped_model,\n",
    "                                                                    train_dataloader=train_dataloader,\n",
    "                                                                    val_dataloader=val_dataloader,\n",
    "                                                                    test_dataloader=test_dataloader,\n",
    "                                                                    artifacts=artifacts,\n",
    "                                                                    **experiment_tags)\n",
    "\n",
    "print(f\"MLFlow Experiment: {mlflow_conf['experiment_name']} \\t | Run ID: {run_id}\")\n",
    "print(metrics)"
   ]
  },
  {
   "cell_type": "markdown",
   "metadata": {
    "tags": []
   },
   "source": [
    "### Hyper-parameter Search\n",
    "\n",
    "`lightsaber` also naturally supports hyper-parameter search to find the best model w.r.t.\\ a pre-defined metric using the similar trace as above. \n",
    "\n",
    "To conduct a grid-search we follow two steps:\n",
    "\n",
    "* we define a grid `h_search` over the model parameter space\n",
    "* We pass an experiment tag `tune` set to `True` along with the grid `h_search` to the trainer code"
   ]
  },
  {
   "cell_type": "code",
   "execution_count": null,
   "metadata": {},
   "outputs": [],
   "source": [
    "model_name = 'HistGBT'\n",
    "hparams = argparse.Namespace(learning_rate=0.01,\n",
    "                             max_iter=100,\n",
    "                             l2_regularization=0.01\n",
    "                             )\n",
    "h_search = dict(\n",
    "    learning_rate=[0.01, 0.1, 0.02],\n",
    "    max_iter=[50, 100]\n",
    ")\n",
    "\n",
    "base_model = HistGradientBoostingClassifier(**vars(hparams))\n",
    "\n",
    "wrapped_model = skr.SKModel(base_model, hparams, name=model_name)"
   ]
  },
  {
   "cell_type": "code",
   "execution_count": null,
   "metadata": {
    "scrolled": true
   },
   "outputs": [],
   "source": [
    "mlflow_conf = dict(experiment_name=f'classifier_test')\n",
    "artifacts = dict(preprocessor=preprocessor)\n",
    "experiment_tags = dict(model=model_name, \n",
    "                       tune=True)\n",
    "\n",
    "(run_id, metrics, \n",
    " val_y, val_yhat, val_pred_proba, \n",
    " test_y, test_yhat, test_pred_proba) = skr.run_training_with_mlflow(mlflow_conf, \n",
    "                                                                    wrapped_model,\n",
    "                                                                    train_dataloader=train_dataloader,\n",
    "                                                                    val_dataloader=val_dataloader,\n",
    "                                                                    test_dataloader=test_dataloader,\n",
    "                                                                    artifacts=artifacts,\n",
    "                                                                    h_search=h_search,\n",
    "                                                                    **experiment_tags)\n",
    "\n",
    "print(f\"MLFlow Experiment: {mlflow_conf['experiment_name']} \\t | Run ID: {run_id}\")\n",
    "print(metrics)"
   ]
  }
 ],
 "metadata": {
  "kernelspec": {
   "display_name": "Python [conda env:.conda-dpm360-dev]",
   "language": "python",
   "name": "conda-env-.conda-dpm360-dev-py"
  },
  "language_info": {
   "codemirror_mode": {
    "name": "ipython",
    "version": 3
   },
   "file_extension": ".py",
   "mimetype": "text/x-python",
   "name": "python",
   "nbconvert_exporter": "python",
   "pygments_lexer": "ipython3",
   "version": "3.8.13"
  }
 },
 "nbformat": 4,
 "nbformat_minor": 4
}
