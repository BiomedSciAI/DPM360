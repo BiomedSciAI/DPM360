{
 "cells": [
  {
   "cell_type": "markdown",
   "metadata": {},
   "source": [
    "### KDD 2008 \n",
    "\n",
    "This notebook to run the method decsribed in \n",
    "\n",
    "\"Learning classifiers from only positive and unlabeled data.\" KDD 2008. Cited 637\n",
    "\n",
    "**Method Discussion**: \n",
    "- X are the features\n",
    "\n",
    "- y are the labels, Positive label: 1.0, Negative label: -1.0\n",
    "\n",
    "- s are indicator for labeled data. s=1 labeled, s=0 unlabeled \n",
    "\n",
    "The method assumes that a classifier 'estimator' was given (not trained) using s=1 and s=0 as the labels. \n",
    "\n",
    "Given 'estimator', the method predicts p(y=1|x).\n",
    "\n",
    "\n",
    "**TODO**: \n",
    "\n",
    "[ ] Load the data using unified (aka CMS) framework. \n",
    "\n",
    "\n"
   ]
  },
  {
   "cell_type": "code",
   "execution_count": null,
   "metadata": {},
   "outputs": [],
   "source": [
    "import sys\n",
    "sys.path.append('../../')\n",
    "from lightsaber import constants as C\n",
    "from lightsaber.data_utils import utils as du\n",
    "from lightsaber.data_utils import sk_dataloader as skd\n",
    "\n",
    "from lightsaber.model_lib.pu_models.puAdapter import PUAdapter\n",
    "from lightsaber import metrics\n",
    "\n",
    "import numpy as np\n",
    "import io\n",
    "from sklearn.linear_model import Lasso, LogisticRegression\n",
    "from sklearn.preprocessing import MinMaxScaler, StandardScaler\n",
    "from sklearn.pipeline import Pipeline"
   ]
  },
  {
   "cell_type": "markdown",
   "metadata": {},
   "source": [
    "## Load data "
   ]
  },
  {
   "cell_type": "code",
   "execution_count": null,
   "metadata": {},
   "outputs": [],
   "source": [
    "# data loading\n",
    "_conf = \"\"\"\n",
    "tgt_file: /home/shared/expt_covid19/cohorts/severity_v1/SEVERITY_OUT_V1.csv\n",
    "feat_file: /home/shared/expt_covid19/cohorts/severity_v1/SEVERITY_FEAT_V1_DEMO-COMORB.csv\n",
    "\n",
    "idx_col: [\"EID\"]\n",
    "tgt_col: [\"SEVERITY\"]\n",
    "feat_cols: [\"SEX\", \"BMI_LATEST\", \"AGE\", \n",
    "    \"has_MI\", \"has_STROKE\" , \"has_ISCH_STROKE\", \"has_ASTHMA\", \"has_RENAL\",\n",
    "    \"has_COPD\", \"has_DEMENTIA\", \"has_NEURONE\", \"has_PARKINSON\", \"has_CANCER\", \"has_DM\"]\n",
    "\"\"\"\n",
    "\n",
    "conf = du.yaml.load(io.StringIO(_conf), Loader=du._Loader)\n",
    "\n",
    "tgt_file = conf['tgt_file']\n",
    "feat_file = conf['feat_file']\n",
    "category_map = dict()\n",
    "fill_value=0.\n",
    "flatten=['sum']\n",
    "preprocessor = [MinMaxScaler()]\n",
    "\n",
    "dataloader = skd.SKDataLoader(tgt_file, feat_file, \n",
    "                              idx_col=conf['idx_col'],\n",
    "                              tgt_col=conf['tgt_col'],\n",
    "                              feat_columns=conf['feat_cols'],\n",
    "                              category_map=category_map,\n",
    "                              fill_value=fill_value,\n",
    "                              flatten=flatten,\n",
    "                              preprocessor=preprocessor)\n",
    "\n",
    "# Preprocessors before fitting\n",
    "X, y = dataloader.read_data(refit=True)\n"
   ]
  },
  {
   "cell_type": "code",
   "execution_count": null,
   "metadata": {},
   "outputs": [],
   "source": [
    "X.describe().T"
   ]
  },
  {
   "cell_type": "code",
   "execution_count": null,
   "metadata": {},
   "outputs": [],
   "source": [
    "y.SEVERITY.value_counts(normalize=True)"
   ]
  },
  {
   "cell_type": "code",
   "execution_count": null,
   "metadata": {},
   "outputs": [],
   "source": [
    "# X = None # modify to load the data using CMS framework \n",
    "# y = None # modify to load the labels using CMS framework \n",
    "\n",
    "if C.LABEL_NEGATIVE == 0 : \n",
    "    y[y == C.LABEL_NEGATIVE] = -1.\n",
    "\n",
    "estimator = LogisticRegression(penalty='l2', ) # Lasso(alpha=0.7) # Any SK estimator such as SVC or RandomForeest ,etc. \n"
   ]
  },
  {
   "cell_type": "markdown",
   "metadata": {},
   "source": [
    "## Train the PU model"
   ]
  },
  {
   "cell_type": "code",
   "execution_count": null,
   "metadata": {},
   "outputs": [],
   "source": [
    "'''\n",
    "Input: \n",
    "    X: List of feature vectors\n",
    "    y: Labels associated to each feature vector in X (Positive label: 1.0, Negative label: -1.0)\n",
    "    estimator: Any SK estimator that implements .fit, .predict_proba functions \n",
    "\n",
    "Output:\n",
    "    pu_estimator: estimator which complie with SK estimators. So, it has .fit, .predict, .predict_proba functions \n",
    "'''\n",
    "\n",
    "pu_estimator = PUAdapter(estimator, hold_out_ratio=0.2) # hold out is used for estimating p(s=1|y=1)\n",
    "\n",
    "\n",
    "pu_estimator.fit(X.values, y.values, treshold=0.5)\n",
    "\n",
    "print(pu_estimator)\n",
    "print(\"Comparison of estimator and PUAdapter(estimator):\")\n",
    "print(\"Number of disagreements: \", len(np.where((pu_estimator.predict(X) == estimator.predict(X)) == False)[0]))\n",
    "print(\"Number of agreements: \", len(np.where((pu_estimator.predict(X) == estimator.predict(X)) == True)[0]))"
   ]
  },
  {
   "cell_type": "markdown",
   "metadata": {},
   "source": [
    "## Prediction  "
   ]
  },
  {
   "cell_type": "code",
   "execution_count": null,
   "metadata": {},
   "outputs": [],
   "source": [
    "# Test data \n",
    "X_test = X # None"
   ]
  },
  {
   "cell_type": "code",
   "execution_count": null,
   "metadata": {},
   "outputs": [],
   "source": [
    "y_hat = pu_estimator.predict(X_test)\n",
    "y_prob = pu_estimator.predict_proba(X_test)"
   ]
  },
  {
   "cell_type": "markdown",
   "metadata": {},
   "source": [
    "## Evaluate"
   ]
  },
  {
   "cell_type": "code",
   "execution_count": null,
   "metadata": {},
   "outputs": [],
   "source": [
    "metrics.f1_pu(y, y_hat)"
   ]
  },
  {
   "cell_type": "code",
   "execution_count": null,
   "metadata": {},
   "outputs": [],
   "source": [
    "metrics.accuracy_pu(y, y_hat)"
   ]
  },
  {
   "cell_type": "code",
   "execution_count": null,
   "metadata": {},
   "outputs": [],
   "source": [
    "metrics.calculate_metrics(y, y_hat, y_prob)"
   ]
  },
  {
   "cell_type": "code",
   "execution_count": null,
   "metadata": {},
   "outputs": [],
   "source": []
  }
 ],
 "metadata": {
  "kernelspec": {
   "display_name": "Python [conda env:ukbio1.0] *",
   "language": "python",
   "name": "conda-env-ukbio1.0-py"
  },
  "language_info": {
   "codemirror_mode": {
    "name": "ipython",
    "version": 3
   },
   "file_extension": ".py",
   "mimetype": "text/x-python",
   "name": "python",
   "nbconvert_exporter": "python",
   "pygments_lexer": "ipython3",
   "version": "3.7.6"
  }
 },
 "nbformat": 4,
 "nbformat_minor": 4
}
