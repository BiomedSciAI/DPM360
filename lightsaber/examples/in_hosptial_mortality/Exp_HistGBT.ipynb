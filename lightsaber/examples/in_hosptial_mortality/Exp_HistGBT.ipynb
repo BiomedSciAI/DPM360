{
 "cells": [
  {
   "cell_type": "markdown",
   "id": "997c4707",
   "metadata": {},
   "source": [
    "# IHM Example Using HistGBT\n",
    "\n",
    "This notebook shows an example of using `HistGBT` to model In-hospital mortality from MIMIC-III dataset.\n",
    "\n",
    "Data is presumed to have been already extracted from cohort and defined via a yaml configuration as below:\n",
    "<!-- #endregion -->\n",
    "\n",
    "## Pre-amble\n",
    "\n",
    "The following code cell imports the required libraries and sets up the notebook"
   ]
  },
  {
   "cell_type": "code",
   "execution_count": null,
   "id": "ac4d6432",
   "metadata": {},
   "outputs": [],
   "source": [
    "# Jupyter notebook specific imports\n",
    "%matplotlib inline\n",
    "\n",
    "import warnings\n",
    "warnings.filterwarnings('ignore')\n",
    "\n",
    "# Imports injecting into namespace\n",
    "from tqdm.auto import tqdm\n",
    "tqdm.pandas()\n",
    "\n",
    "# General imports\n",
    "import os\n",
    "import json\n",
    "import pickle\n",
    "from pathlib import Path\n",
    "\n",
    "import pandas as pd\n",
    "import numpy as np\n",
    "from getpass import getpass\n",
    "import argparse\n",
    "\n",
    "from sklearn.preprocessing import StandardScaler\n",
    "from sklearn.exceptions import NotFittedError\n",
    "\n",
    "from lightsaber import constants as C\n",
    "import lightsaber.data_utils.utils as du\n",
    "from lightsaber.data_utils.pt_dataset import (filter_preprocessor)\n",
    "from lightsaber.data_utils import sk_dataloader as skd\n",
    "from lightsaber.trainers import sk_trainer as skr\n",
    "\n",
    "from sklearn.ensemble import HistGradientBoostingClassifier\n",
    "\n",
    "import logging\n",
    "log = logging.getLogger()"
   ]
  },
  {
   "cell_type": "code",
   "execution_count": null,
   "id": "0015a369",
   "metadata": {},
   "outputs": [],
   "source": [
    "data_dir = Path(os.environ.get('LS_DATA_PATH', './data'))\n",
    "assert data_dir.is_dir()\n",
    "\n",
    "conf_path = os.environ.get('LS_CONF_PATH', os.path.abspath('./ihm_expt_config.yml')) \n",
    "expt_conf = du.yaml.load(open(conf_path).read().format(DATA_DIR=data_dir),\n",
    "                         Loader=du._Loader)"
   ]
  },
  {
   "cell_type": "markdown",
   "id": "1320e6c5",
   "metadata": {
    "tags": []
   },
   "source": [
    "## IHM Model Training\n",
    "\n",
    "In general, we need to follow the following steps to train a `HistGBT` for IHM model.\n",
    "\n",
    "* _Data Ingestion_: The first step involves setting up the pre-processors to train an IHM model. In this example, we will use a `StandardScaler` from `scikit-learn` using filters defined within lightsaber.\n",
    "\n",
    "  - We would next read the train, test, and validation dataset. In some cases, users may also want to define a calibration dataset\n",
    "    \n",
    "* _Model Definition_: We would next need to define a base model for classification. In this example, we will use a standard `scikit-learn::HistGBT` model \n",
    "\n",
    "* _Model Training_: Once the models are defined, we can use `lightsaber` to train the model via the pre-packaged `SKModel` and the corresponding trainer code. This step will also generate the relevant `metrics` for this problem.\n",
    "\n",
    "  - we will also show how to train a single hyper-parameter setting as well as a grid search over a pre-specified hyper-parameter space.\n",
    "\n"
   ]
  },
  {
   "cell_type": "markdown",
   "id": "ebf798e3",
   "metadata": {},
   "source": [
    "### Data Ingestion\n",
    "\n",
    "We firs start by reading extracted cohort data and use a `StandardScaler` demonstrating the proper usage of a pre-processor"
   ]
  },
  {
   "cell_type": "code",
   "execution_count": null,
   "id": "8664c24b",
   "metadata": {},
   "outputs": [],
   "source": [
    "flatten = 'sum'\n",
    "preprocessor = StandardScaler()\n",
    "train_filter = [filter_preprocessor(cols=expt_conf['numerical'], \n",
    "                                    preprocessor=preprocessor,\n",
    "                                    refit=True),\n",
    "               ]\n",
    "\n",
    "train_dataloader = skd.SKDataLoader(tgt_file=expt_conf['train']['tgt_file'],\n",
    "                                    feat_file=expt_conf['train']['feat_file'],\n",
    "                                    idx_col=expt_conf['idx_cols'],\n",
    "                                    tgt_col=expt_conf['tgt_col'],\n",
    "                                    feat_columns=expt_conf['feat_cols'],\n",
    "                                    time_order_col=expt_conf['time_order_col'],\n",
    "                                    category_map=expt_conf['category_map'],\n",
    "                                    filter=train_filter,\n",
    "                                    fill_value=expt_conf['normal_values'],\n",
    "                                    flatten=flatten,\n",
    "                                   )\n",
    "print(train_dataloader.shape, len(train_dataloader))\n",
    "\n",
    "# For other datasets use fitted preprocessors\n",
    "fitted_filter = [filter_preprocessor(cols=expt_conf['numerical'], \n",
    "                                     preprocessor=preprocessor, refit=False),\n",
    "                 ]\n",
    "val_dataloader = skd.SKDataLoader(tgt_file=expt_conf['val']['tgt_file'],\n",
    "                                  feat_file=expt_conf['val']['feat_file'],\n",
    "                                  idx_col=expt_conf['idx_cols'],\n",
    "                                  tgt_col=expt_conf['tgt_col'],\n",
    "                                  feat_columns=expt_conf['feat_cols'],\n",
    "                                  time_order_col=expt_conf['time_order_col'],\n",
    "                                  category_map=expt_conf['category_map'],\n",
    "                                  filter=fitted_filter,\n",
    "                                  fill_value=expt_conf['normal_values'],\n",
    "                                  flatten=flatten,\n",
    "                                )\n",
    "\n",
    "test_dataloader = skd.SKDataLoader(tgt_file=expt_conf['test']['tgt_file'],\n",
    "                                  feat_file=expt_conf['test']['feat_file'],\n",
    "                                  idx_col=expt_conf['idx_cols'],\n",
    "                                  tgt_col=expt_conf['tgt_col'],\n",
    "                                  feat_columns=expt_conf['feat_cols'],\n",
    "                                  time_order_col=expt_conf['time_order_col'],\n",
    "                                  category_map=expt_conf['category_map'],\n",
    "                                  filter=fitted_filter,\n",
    "                                  fill_value=expt_conf['normal_values'],\n",
    "                                  flatten=flatten,\n",
    "                                )\n",
    "\n",
    "print(val_dataloader.shape, len(val_dataloader))\n",
    "print(test_dataloader.shape, len(test_dataloader))"
   ]
  },
  {
   "cell_type": "markdown",
   "id": "0611f29f",
   "metadata": {
    "tags": []
   },
   "source": [
    "### Training a Single Model"
   ]
  },
  {
   "cell_type": "markdown",
   "id": "f0ece3c0",
   "metadata": {
    "lines_to_next_cell": 0
   },
   "source": [
    "#### Model definition\n",
    "\n",
    "We can define a base classification model using standard `scikit-learn` workflow as below:"
   ]
  },
  {
   "cell_type": "code",
   "execution_count": null,
   "id": "11b2bd65",
   "metadata": {},
   "outputs": [],
   "source": [
    "model_name = 'HistGBT'\n",
    "hparams = argparse.Namespace(learning_rate=0.01,\n",
    "                             max_iter=100,\n",
    "                             l2_regularization=0.01\n",
    "                             )\n",
    "\n",
    "base_model = HistGradientBoostingClassifier(learning_rate=hparams.learning_rate, \n",
    "                                            l2_regularization=hparams.l2_regularization, \n",
    "                                            max_iter=hparams.max_iter)\n",
    "\n",
    "wrapped_model = skr.SKModel(base_model, hparams, name=model_name)"
   ]
  },
  {
   "cell_type": "markdown",
   "id": "e6a9aed9",
   "metadata": {
    "lines_to_next_cell": 0
   },
   "source": [
    "#### Model training with in-built model tracking and evaluation"
   ]
  },
  {
   "cell_type": "code",
   "execution_count": null,
   "id": "a2301d6b",
   "metadata": {},
   "outputs": [],
   "source": [
    "mlflow_conf = dict(experiment_name=f'classifier_ihm')\n",
    "artifacts = dict(preprocessor=preprocessor)\n",
    "experiment_tags = dict(model=model_name, \n",
    "                       tune=False)\n",
    "\n",
    "(run_id, metrics, \n",
    " val_y, val_yhat, val_pred_proba, \n",
    " test_y, test_yhat, test_pred_proba) = skr.run_training_with_mlflow(mlflow_conf, \n",
    "                                                                    wrapped_model,\n",
    "                                                                    train_dataloader=train_dataloader,\n",
    "                                                                    val_dataloader=val_dataloader,\n",
    "                                                                    test_dataloader=test_dataloader,\n",
    "                                                                    artifacts=artifacts,\n",
    "                                                                    **experiment_tags)\n",
    "\n",
    "print(f\"MLFlow Experiment: {mlflow_conf['experiment_name']} \\t | Run ID: {run_id}\")\n",
    "print(metrics)"
   ]
  },
  {
   "cell_type": "markdown",
   "id": "741f5bfe",
   "metadata": {
    "tags": []
   },
   "source": [
    "### Hyper-parameter Search\n",
    "\n",
    "`lightsaber` also naturally supports hyper-parameter search to find the best model w.r.t.\\ a pre-defined metric using the similar trace as above. \n",
    "\n",
    "To conduct a grid-search we follow two steps:\n",
    "\n",
    "* we define a grid `h_search` over the model parameter space\n",
    "* We pass an experiment tag `tune` set to `True` along with the grid `h_search` to the trainer code"
   ]
  },
  {
   "cell_type": "code",
   "execution_count": null,
   "id": "23a511ad",
   "metadata": {},
   "outputs": [],
   "source": [
    "model_name = 'HistGBT'\n",
    "hparams = argparse.Namespace(learning_rate=0.01,\n",
    "                             max_iter=100,\n",
    "                             l2_regularization=0.01\n",
    "                             )\n",
    "h_search = dict(\n",
    "    learning_rate=[0.01, 0.1, 0.02],\n",
    "    max_iter=[50, 100]\n",
    ")\n",
    "\n",
    "base_model = HistGradientBoostingClassifier(**vars(hparams))\n",
    "\n",
    "wrapped_model = skr.SKModel(base_model, hparams, name=model_name)"
   ]
  },
  {
   "cell_type": "code",
   "execution_count": null,
   "id": "e8bf0fec",
   "metadata": {
    "scrolled": true
   },
   "outputs": [],
   "source": [
    "mlflow_conf = dict(experiment_name=f'classifier_ihm')\n",
    "artifacts = dict(preprocessor=preprocessor)\n",
    "experiment_tags = dict(model=model_name, \n",
    "                       tune=True)\n",
    "\n",
    "(run_id, metrics, \n",
    " val_y, val_yhat, val_pred_proba, \n",
    " test_y, test_yhat, test_pred_proba) = skr.run_training_with_mlflow(mlflow_conf, \n",
    "                                                                    wrapped_model,\n",
    "                                                                    train_dataloader=train_dataloader,\n",
    "                                                                    val_dataloader=val_dataloader,\n",
    "                                                                    test_dataloader=test_dataloader,\n",
    "                                                                    artifacts=artifacts,\n",
    "                                                                    h_search=h_search,\n",
    "                                                                    **experiment_tags)\n",
    "\n",
    "print(f\"MLFlow Experiment: {mlflow_conf['experiment_name']} \\t | Run ID: {run_id}\")\n",
    "print(metrics)"
   ]
  },
  {
   "cell_type": "markdown",
   "id": "0820fd9c",
   "metadata": {
    "tags": []
   },
   "source": [
    "## IHM Model Registration\n",
    "\n",
    "This block shows how to register a model for subsequent steps. Given a `run_id` this block can be run independtly of other aspects\n",
    "\n",
    "Internally, the following steps happen:\n",
    "\n",
    "- a saved model (along with hyper-params and weights) is retrieved using `run_id`\n",
    "- model is initialized using the weights\n",
    "- model is logged to mlflow under registered model name"
   ]
  },
  {
   "cell_type": "code",
   "execution_count": null,
   "id": "861de6f4",
   "metadata": {},
   "outputs": [],
   "source": [
    "print(f\"Registering model for run: {run_id}\")\n",
    "# Reading from yaml to log other artifacts\n",
    "data_dir = Path(os.environ.get('LS_DATA_PATH', './data'))\n",
    "assert data_dir.is_dir()\n",
    "\n",
    "conf_path = os.environ.get('LS_CONF_PATH', os.path.abspath('./ihm_expt_config.yml')) \n",
    "expt_conf = du.yaml.load(open(conf_path).read().format(DATA_DIR=data_dir),\n",
    "                         Loader=du._Loader)\n",
    "\n",
    "mlflow_conf = dict(experiment_name=f'classifier_ihm')\n",
    "registered_model_name = 'classifier_ihm_HistGBT_v0'\n",
    "\n",
    "print(\"model ready to be registered\") "
   ]
  },
  {
   "cell_type": "code",
   "execution_count": null,
   "id": "7b6ff73c",
   "metadata": {},
   "outputs": [],
   "source": [
    "# Register model\n",
    "skr.register_model_with_mlflow(run_id, mlflow_conf, \n",
    "                               registered_model_name=registered_model_name,\n",
    "                               test_feat_file=expt_conf['test']['feat_file'],\n",
    "                               test_tgt_file=expt_conf['test']['tgt_file'],\n",
    "                               config=os.path.abspath('./ihm_expt_config.yml')\n",
    "                              )"
   ]
  },
  {
   "cell_type": "markdown",
   "id": "4e5b4c19",
   "metadata": {
    "tags": []
   },
   "source": [
    "## IHM Model Inference \n",
    "\n",
    "`Lightsaber` also natively supports conducting inferences on new patients using the registered model. The key steps involve:\n",
    "\n",
    "* loading the registerd model from mlflow\n",
    "* Ingest the new test data using `SKDataLoader` in inference mode (setting `tgt_file` to `None`)\n",
    "* Use the `SKModel.predict_patient` method to generate inference for the patient of interest \n"
   ]
  },
  {
   "cell_type": "code",
   "execution_count": null,
   "id": "2889dad5",
   "metadata": {},
   "outputs": [],
   "source": [
    "print(f\"Inference using model for run: {run_id}\")"
   ]
  },
  {
   "cell_type": "code",
   "execution_count": null,
   "id": "ad86fdab",
   "metadata": {},
   "outputs": [],
   "source": [
    "# Reading from yaml to log other artifacts\n",
    "data_dir = Path(os.environ.get('LS_DATA_PATH', './data'))\n",
    "assert data_dir.is_dir()\n",
    "\n",
    "conf_path = os.environ.get('LS_CONF_PATH', os.path.abspath('./ihm_expt_config.yml')) \n",
    "expt_conf = du.yaml.load(open(conf_path).read().format(DATA_DIR=data_dir),\n",
    "                         Loader=du._Loader)\n",
    "\n",
    "mlflow_conf = dict(experiment_name=f'classifier_ihm')\n",
    "registered_model_name = 'classifier_ihm_HistGBT_v0'\n",
    "\n",
    "wrapped_model = skr.load_model_from_mlflow(run_id, mlflow_conf)\n",
    "print(\"model ready to be inferred from\") "
   ]
  },
  {
   "cell_type": "code",
   "execution_count": null,
   "id": "202d0fe9",
   "metadata": {},
   "outputs": [],
   "source": [
    "inference_dataloader = skd.SKDataLoader(tgt_file=None,\n",
    "                                        feat_file=expt_conf['test']['feat_file'],\n",
    "                                        idx_col=expt_conf['idx_cols'],\n",
    "                                        tgt_col=expt_conf['tgt_col'],\n",
    "                                        feat_columns=expt_conf['feat_cols'],\n",
    "                                        time_order_col=expt_conf['time_order_col'],\n",
    "                                        category_map=expt_conf['category_map'],\n",
    "                                        filter=fitted_filter,\n",
    "                                        fill_value=expt_conf['normal_values'],\n",
    "                                        flatten=flatten,\n",
    "                                        )\n",
    "\n",
    "print(inference_dataloader.shape, len(inference_dataloader))"
   ]
  },
  {
   "cell_type": "code",
   "execution_count": null,
   "id": "36d4e1ab",
   "metadata": {},
   "outputs": [],
   "source": [
    "patient_id = inference_dataloader.sample_idx.index[0]\n",
    "print(f\"Inference for patient: {patient_id}\")\n",
    "\n",
    "# patient_id = '10011_episode1_timeseries.csv'\n",
    "wrapped_model.predict_patient(patient_id, inference_dataloader)"
   ]
  }
 ],
 "metadata": {
  "kernelspec": {
   "display_name": "Python [conda env:.conda-dpm360]",
   "language": "python",
   "name": "conda-env-.conda-dpm360-py"
  },
  "language_info": {
   "codemirror_mode": {
    "name": "ipython",
    "version": 3
   },
   "file_extension": ".py",
   "mimetype": "text/x-python",
   "name": "python",
   "nbconvert_exporter": "python",
   "pygments_lexer": "ipython3",
   "version": "3.7.5"
  }
 },
 "nbformat": 4,
 "nbformat_minor": 4
}
